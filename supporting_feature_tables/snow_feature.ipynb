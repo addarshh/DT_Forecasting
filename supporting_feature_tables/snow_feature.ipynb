{
 "cells": [
  {
   "cell_type": "code",
   "execution_count": null,
   "metadata": {},
   "outputs": [],
   "source": [
    "# calculate snow features from weather record\n",
    "# particularly, we will calcualte \n",
    "# 1. snow flag per store per date, it can take 0 or 1\n",
    "# 2. snow_weekly_count. a rolling window, calculate number of days with snow within a week for every store\n",
    "# 3. first_snow, the date that first snow of the year occur. Here, the first snow is defined as the first snow in fall/winter,so snow in early spring doea not count\n",
    "# 4. time perioed with repect to the first snow of the year, it includes 1 week, 1 month, and the number of days after the first snow for two weeks\n",
    "\n",
    "# this can be updated daily "
   ]
  },
  {
   "cell_type": "code",
   "execution_count": 1,
   "metadata": {},
   "outputs": [],
   "source": [
    "# import libraries\n",
    "import pandas as pd\n",
    "import numpy as np"
   ]
  },
  {
   "cell_type": "code",
   "execution_count": 53,
   "metadata": {},
   "outputs": [],
   "source": [
    "# get full calendar with store code\n",
    "def get_full_calendar(raw_store_attribute_df,start_date = '2017-01-01',end_date = '2020-06-30'):\n",
    "    full_calendar = pd.merge(raw_store_attribute_df[['store_code']].assign(key=1),\n",
    "                        pd.DataFrame(pd.date_range(start= start_date, end= end_date), columns=[\"date\"]).assign(key=1),\n",
    "                        how='left').drop('key',1)\n",
    "    return full_calendar\n",
    "\n",
    "def get_snow_flag (raw_snow_data,full_calendar):\n",
    "    # get full calendar\n",
    "    raw_snow_data = pd.merge(full_calendar,raw_snow_data,how = 'left', on = ['store_code','date']).fillna(0)\n",
    "\n",
    "    # snow flag\n",
    "    raw_snow_data['is_snow'] = np.where(raw_snow_data['snowfall_inches']>0,1,0)\n",
    "    return raw_snow_data\n",
    "\n",
    "def get_rolling_snow_count_weekly (raw_snow_data):\n",
    "    # rolling snow count within a week\n",
    "    raw_snow_data['snow_count_weekly'] = raw_snow_data['is_snow'].rolling(7, min_periods=7).sum().fillna(0).shift(periods = 1,fill_value = 0)\n",
    "    return raw_snow_data\n",
    "    \n",
    "    \n",
    "def get_first_now_of_the_year(raw_snow_data):\n",
    "    # convert date time to year and month\n",
    "    raw_snow_data['year'] = raw_snow_data['date'].dt.year\n",
    "    raw_snow_data['month'] = raw_snow_data['date'].dt.month\n",
    "    # first snow\n",
    "    raw_snow_data ['first_snow'] = 0\n",
    "\n",
    "    for cur_store in raw_snow_data.store_code.unique():\n",
    "        cur_weather = raw_snow_data.loc[raw_snow_data['store_code'] == cur_store]\n",
    "        for cur_year in cur_weather.year.unique():\n",
    "            if (sum(cur_weather.loc[(cur_weather['year'] == cur_year) & (cur_weather['month'] >8 )][\n",
    "                        'snowfall_inches'].ne(0)) > 0):\n",
    "                m = cur_weather.loc[(cur_weather['year'] == cur_year) & (cur_weather['month'] > 8)][\n",
    "                    'snowfall_inches'].ne(0).idxmax()\n",
    "                raw_snow_data['first_snow'][m] = 1\n",
    "    \n",
    "    return raw_snow_data\n",
    "\n",
    "def get_first_snow_period(raw_snow_data):\n",
    "    # calculate one week, one month within the first snow of the year\n",
    "    raw_snow_data['previous_first_snow_one_week'] = raw_snow_data['first_snow'].rolling(7,min_periods = 1).max().fillna(0).shift(periods = 1,fill_value = 0)\n",
    "    raw_snow_data['previous_first_snow_one_month']= raw_snow_data['first_snow'].rolling(30,min_periods = 1).max().fillna(0).shift(periods = 1,fill_value = 0)\n",
    "    # calculate the number of days away from the first snow of the year after it happens\n",
    "    raw_snow_data['previous_first_snow_two_weeks'] = raw_snow_data['first_snow'].rolling(14,min_periods = 1).max().fillna(0).shift(periods = 1,fill_value = 0)\n",
    "    raw_snow_data['previous_first_snow_rolling_two_weeks'] = raw_snow_data['previous_first_snow_two_weeks'].rolling(14,min_periods = 1).sum().fillna(0).shift(periods = 1,fill_value = 0)  \n",
    "    return raw_snow_data\n",
    "\n",
    "def get_snow_feature(raw_snow_data,raw_store_attribute_df,start_date = '2017-01-01', end_date = '2020-06-30'):\n",
    "    # full calendar\n",
    "    full_calendar = get_full_calendar(raw_store_attribute_df)\n",
    "    # snow flag\n",
    "    raw_snow_data = get_snow_flag(raw_snow_data,full_calendar)\n",
    "    # snow weekly count\n",
    "    raw_snow_data = get_rolling_snow_count_weekly(raw_snow_data)\n",
    "    # first snow of the year\n",
    "    raw_snow_data = get_first_now_of_the_year(raw_snow_data)\n",
    "    # first snow period\n",
    "    raw_snow_data = get_first_snow_period(raw_snow_data)\n",
    "    # return only relevant columns\n",
    "    col = ['date','store_code','first_snow','previous_first_snow_rolling_two_weeks',\n",
    "           'snow_count_weekly','previous_first_snow_one_week','previous_first_snow_one_month']\n",
    "    return raw_snow_data[col]"
   ]
  },
  {
   "cell_type": "code",
   "execution_count": 54,
   "metadata": {},
   "outputs": [
    {
     "name": "stderr",
     "output_type": "stream",
     "text": [
      "/Users/liyue/opt/anaconda3/lib/python3.7/site-packages/ipykernel_launcher.py:7: SettingWithCopyWarning: \n",
      "A value is trying to be set on a copy of a slice from a DataFrame.\n",
      "Try using .loc[row_indexer,col_indexer] = value instead\n",
      "\n",
      "See the caveats in the documentation: https://pandas.pydata.org/pandas-docs/stable/user_guide/indexing.html#returning-a-view-versus-a-copy\n",
      "  import sys\n",
      "/Users/liyue/opt/anaconda3/lib/python3.7/site-packages/ipykernel_launcher.py:36: SettingWithCopyWarning: \n",
      "A value is trying to be set on a copy of a slice from a DataFrame\n",
      "\n",
      "See the caveats in the documentation: https://pandas.pydata.org/pandas-docs/stable/user_guide/indexing.html#returning-a-view-versus-a-copy\n"
     ]
    }
   ],
   "source": [
    "# read weather record and store attribute data\n",
    "weather_record_df = pd.read_csv('weather_daily_actuals.csv')\n",
    "store_attribute_df = pd.read_csv('final_store_attributes.csv')\n",
    "\n",
    "# focus on snow features\n",
    "raw_snow_data = weather_record_df[['date','store_code','snowfall_inches']]\n",
    "raw_snow_data['date'] = pd.to_datetime(raw_snow_data['date'],format = '%Y%m%d')\n",
    "\n",
    "# calculate snow featuers\n",
    "snow_feature_df = get_snow_feature(raw_snow_data,store_attribute_df,start_date = '2017-01-01', end_date = '2020-06-30')"
   ]
  },
  {
   "cell_type": "code",
   "execution_count": 55,
   "metadata": {},
   "outputs": [],
   "source": [
    "# compare with old data\n",
    "snow_old_df = pd.read_csv('/Users/liyue/Downloads/snow_feature_1.csv')\n",
    "snow_old_df['date'] = pd.to_datetime(snow_old_df['date'])"
   ]
  },
  {
   "cell_type": "code",
   "execution_count": 56,
   "metadata": {},
   "outputs": [],
   "source": [
    "cur_store = 'COD 14'\n",
    "snow_new = snow_feature_df.loc[snow_feature_df['store_code'] == cur_store]\n",
    "snow_old = snow_old_df.loc[snow_old_df['store_code'] == cur_store]"
   ]
  },
  {
   "cell_type": "code",
   "execution_count": 57,
   "metadata": {},
   "outputs": [
    {
     "data": {
      "text/plain": [
       "<matplotlib.legend.Legend at 0x7faebd246850>"
      ]
     },
     "execution_count": 57,
     "metadata": {},
     "output_type": "execute_result"
    },
    {
     "data": {
      "image/png": "[encoded data removed]",
      "text/plain": [
       "<Figure size 432x288 with 1 Axes>"
      ]
     },
     "metadata": {
      "needs_background": "light"
     },
     "output_type": "display_data"
    }
   ],
   "source": [
    "import matplotlib.pyplot as plt\n",
    "plt.plot(snow_new['date'],snow_new['previous_first_snow_rolling_two_weeks'])\n",
    "plt.plot(snow_old['date'],snow_old['previous_first_snow_rolling_two_weeks'])\n",
    "plt.legend(['new','old'])"
   ]
  },
  {
   "cell_type": "code",
   "execution_count": null,
   "metadata": {},
   "outputs": [],
   "source": []
  }
 ],
 "metadata": {
  "kernelspec": {
   "display_name": "Python 3",
   "language": "python",
   "name": "python3"
  },
  "language_info": {
   "codemirror_mode": {
    "name": "ipython",
    "version": 3
   },
   "file_extension": ".py",
   "mimetype": "text/x-python",
   "name": "python",
   "nbconvert_exporter": "python",
   "pygments_lexer": "ipython3",
   "version": "3.7.6"
  }
 },
 "nbformat": 4,
 "nbformat_minor": 4
}
