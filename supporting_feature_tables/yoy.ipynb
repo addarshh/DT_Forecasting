{
 "cells": [
  {
   "cell_type": "code",
   "execution_count": 49,
   "metadata": {},
   "outputs": [],
   "source": [
    "import pandas as pd\n",
    "import numpy as np\n",
    "from datetime import datetime\n",
    "from datetime import date"
   ]
  },
  {
   "cell_type": "code",
   "execution_count": 50,
   "metadata": {},
   "outputs": [],
   "source": [
    "today = date.today()\n",
    "d1 = today.strftime(\"%Y-%m-%d\")"
   ]
  },
  {
   "cell_type": "code",
   "execution_count": 51,
   "metadata": {},
   "outputs": [],
   "source": [
    "invoice_df=pd.read_csv(\"invoice_daily_actuals.csv\")\n",
    "phone_df=pd.read_csv(\"phone_daily_actuals.csv\")\n",
    "invoice_df['date']=pd.to_datetime(invoice_df['effective_date'] , format='%Y%m%d')\n",
    "phone_df['date']=pd.to_datetime(phone_df['effective_date'], format='%Y-%m-%d')\n",
    "\n",
    "invoice_df=invoice_df.rename(columns={'actual': 'invoice_actual'})\n",
    "phone_df=phone_df.rename(columns={'actual': 'phone_actual'})"
   ]
  },
  {
   "cell_type": "code",
   "execution_count": 52,
   "metadata": {},
   "outputs": [],
   "source": [
    "combine_list=np.concatenate((invoice_df.store_code.unique(), phone_df.store_code.unique()))\n",
    "combine_list = list(filter(None, combine_list))\n",
    "combine_list=np.unique(combine_list, axis=0)\n",
    "\n",
    "invoice_max_date=max(invoice_df['date'])\n",
    "phone_max_date=max(phone_df['date'])\n",
    "max_date = invoice_max_date if invoice_max_date >= phone_max_date else phone_max_date\n",
    "\n",
    "df1 = pd.merge(\n",
    "    pd.DataFrame(combine_list,columns=[\"store_code\"]).assign(key=1),\n",
    "    pd.DataFrame(pd.date_range(start=\"2017-01-01\", end=d1), columns=[\"date\"]).assign(key=1),\n",
    "    how='outer').drop('key',1)\n",
    "\n",
    "df1=df1[df1['date']<=max_date]\n",
    "df1=pd.merge(df1, invoice_df[['store_code','date','invoice_actual']], on=['store_code','date'], how='left')\n",
    "df1=pd.merge(df1, phone_df[['store_code','date','phone_actual']], on=['store_code','date'], how='left')\n",
    "df1['year']=pd.to_datetime(df1['date']).dt.year\n",
    "df1['month']=pd.to_datetime(df1['date']).dt.month\n",
    "df1['month']=df1.month.map(\"{:02}\".format)\n",
    "df1['key']=df1['year'].astype(str) + df1['month'].astype(str)\n",
    "df1['key']=df1['key'].astype(int)"
   ]
  },
  {
   "cell_type": "code",
   "execution_count": 53,
   "metadata": {},
   "outputs": [],
   "source": [
    "##for invoice\n",
    "df2 = df1.groupby(['store_code','key'])['invoice_actual'].sum()\n",
    "df2 = df2.reset_index()\n",
    "df2.sort_values(by=['store_code','key'], inplace=True)\n",
    "df2['p_m'] = df2.groupby(['store_code'])['invoice_actual'].shift(1)\n",
    "df2['p_y_m'] = df2.groupby(['store_code'])['invoice_actual'].shift(13)\n",
    "df2['invoice_prev_month_yoy']=(df2['p_m']-df2['p_y_m'])/df2['p_y_m']\n",
    "df2['missing_invoice_prev_month_yoy'] = np.where(df2.invoice_prev_month_yoy.isnull(),1, 0)"
   ]
  },
  {
   "cell_type": "code",
   "execution_count": 54,
   "metadata": {},
   "outputs": [],
   "source": [
    "##for phone\n",
    "df3 = df1.groupby(['store_code','key'])['phone_actual'].sum()\n",
    "df3 = df3.reset_index()\n",
    "df3.sort_values(by=['store_code','key'], inplace=True)\n",
    "df3['p_m'] = df3.groupby(['store_code'])['phone_actual'].shift(1)\n",
    "df3['p_y_m'] = df3.groupby(['store_code'])['phone_actual'].shift(13)\n",
    "df3['phone_prev_month_yoy']=(df3['p_m']-df3['p_y_m'])/df3['p_y_m']\n",
    "df3['missing_phone_prev_month_yoy'] = np.where(df3.phone_prev_month_yoy.isnull(),1, 0)\n",
    "#df3"
   ]
  },
  {
   "cell_type": "code",
   "execution_count": 55,
   "metadata": {},
   "outputs": [],
   "source": [
    "df1=pd.merge(df1, df2[['store_code','key','invoice_prev_month_yoy','missing_invoice_prev_month_yoy']], on=['store_code','key'], how='left')\n",
    "df1=pd.merge(df1, df3[['store_code','key','phone_prev_month_yoy','missing_phone_prev_month_yoy']], on=['store_code','key'], how='left')\n",
    "df1['invoice_prev_month_yoy']=df1['invoice_prev_month_yoy'].fillna(0)\n",
    "df1['phone_prev_month_yoy']=df1['phone_prev_month_yoy'].fillna(0)\n",
    "df1=df1[['store_code','date','invoice_prev_month_yoy','phone_prev_month_yoy','missing_invoice_prev_month_yoy','missing_phone_prev_month_yoy']]"
   ]
  },
  {
   "cell_type": "code",
   "execution_count": 57,
   "metadata": {},
   "outputs": [],
   "source": [
    "df1.to_csv('yoy.csv')"
   ]
  }
 ],
 "metadata": {
  "kernelspec": {
   "display_name": "Python 3",
   "language": "python",
   "name": "python3"
  },
  "language_info": {
   "codemirror_mode": {
    "name": "ipython",
    "version": 3
   },
   "file_extension": ".py",
   "mimetype": "text/x-python",
   "name": "python",
   "nbconvert_exporter": "python",
   "pygments_lexer": "ipython3",
   "version": "3.5.9"
  }
 },
 "nbformat": 4,
 "nbformat_minor": 4
}
