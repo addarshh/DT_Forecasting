{
 "cells": [
  {
   "cell_type": "code",
   "execution_count": null,
   "metadata": {},
   "outputs": [],
   "source": [
    "import pandas as pd\n",
    "import math"
   ]
  },
  {
   "cell_type": "code",
   "execution_count": null,
   "metadata": {},
   "outputs": [],
   "source": [
    "### 30yrs_weather_data_agg.csv file was created with below query. 30 years weather data was aggregated at grid level, initially it is on daily level.\n",
    "### avg_pcp and avg_acc_snow were first sum across each year and then aggregated at grid level.\n",
    "'''\n",
    "select cc.*, bb.avg_pcp, bb.avg_acc_snow from\n",
    "(SELECT grid_key, latitude, longitude, avg(air_2m) avg_temp, max(air_2m) max_temp, max(apcp) max_pcp, max(weasd) max_acc_snow,\n",
    "min(air_2m) min_temp, min(apcp) min_pcp, min(weasd) min_acc_snow,\n",
    "stddev(air_2m) stddev_temp, stddev(apcp) stddev_pcp, stddev(weasd) stddev_acc_snow FROM narr_climate group by grid_key, latitude, longitude)cc\n",
    "\n",
    "left outer join\n",
    "\n",
    "(select grid_key, latitude, longitude, avg(sum_pcp) avg_pcp, sum(sum_acc_snow) avg_acc_snow from \n",
    "(SELECT grid_key, latitude, longitude, year(hist_date), sum(apcp) sum_pcp, sum(weasd) sum_acc_snow\n",
    "FROM narr_climate group by grid_key, latitude, longitude, year(hist_date)) aa group by grid_key, latitude, longitude)bb\n",
    "\n",
    "on cc.grid_key=bb.grid_key and\n",
    "cc.latitude=bb.latitude and\n",
    "cc.longitude=bb.longitude\n",
    "\n",
    "'''"
   ]
  },
  {
   "cell_type": "code",
   "execution_count": null,
   "metadata": {},
   "outputs": [],
   "source": [
    "grid_keys1=pd.read_csv(\"30yrs_weather_data_agg.csv\")\n",
    "stores=pd.read_csv(\"store_attributes.csv\")\n",
    "\n",
    "grid_keys=grid_keys1[['grid_key','latitude','longitude']]\n",
    "stores=stores[['store_code','store_latitude_degree','store_longitude_degree']]"
   ]
  },
  {
   "cell_type": "code",
   "execution_count": null,
   "metadata": {},
   "outputs": [],
   "source": [
    "def rad(coord):\n",
    "    \n",
    "    '''\n",
    "    converts lat/lon coordinates to radians\n",
    "    '''\n",
    "    \n",
    "    rad = math.radians(coord)\n",
    "   \n",
    "    return rad\n",
    "\n",
    "\n",
    "def get_distance(lat1, lon1, lat2, lon2):\n",
    "    \n",
    "    '''\n",
    "    calculates arbitrary distance measure between 2 lat/lon pairs used for nearest grid key approximation\n",
    "    '''\n",
    "    \n",
    "    x = (rad(lon2) - rad(lon1)) * math.cos(rad(lat1))\n",
    "    y = rad(lat2) - rad(lat1)\n",
    "    d = (x**2 + y**2)**(1/2)\n",
    "    \n",
    "    return d\n",
    "\n",
    "\n",
    "def find_closest_on_grid(store, grid_ref):\n",
    "    \n",
    "    '''\n",
    "    finds the closest NARR grid point for a given store \n",
    "    '''\n",
    "    \n",
    "    dist = []\n",
    "    storeid = store[0]\n",
    "    lat = store[1]\n",
    "    lon = store[2]\n",
    "    \n",
    "    for g in grid_ref:\n",
    "        d = get_distance(lat, lon, g[1], g[2])\n",
    "        dist.append(d)\n",
    "    \n",
    "    closest_ind = dist.index(min(dist))\n",
    "    \n",
    "    closest_grid_key = int(grid_ref[closest_ind][0])\n",
    "    closest_lat = grid_ref[closest_ind][1]\n",
    "    closest_lon = grid_ref[closest_ind][2]\n",
    "    \n",
    "    out = [closest_grid_key, closest_lat, closest_lon]\n",
    "    \n",
    "    return out"
   ]
  },
  {
   "cell_type": "code",
   "execution_count": null,
   "metadata": {},
   "outputs": [],
   "source": [
    "# convert data frames to iterables\n",
    "grid_keys = grid_keys.values.tolist()\n",
    "stores = stores.values.tolist()"
   ]
  },
  {
   "cell_type": "code",
   "execution_count": null,
   "metadata": {},
   "outputs": [],
   "source": [
    "# find closest weather grid point for each store\n",
    "results = []\n",
    "\n",
    "for i,store in enumerate(stores):\n",
    "    \n",
    "    if i % 100 == 0:\n",
    "        print(i)\n",
    "    \n",
    "    closest = find_closest_on_grid(store, grid_keys)\n",
    "    \n",
    "    results.append([store[0], store[1], store[2], closest[0], closest[1], closest[2]])"
   ]
  },
  {
   "cell_type": "code",
   "execution_count": null,
   "metadata": {},
   "outputs": [],
   "source": [
    "df = pd.DataFrame(results, columns=['store_code','store_latitude','store_longitude', \\\n",
    "                                    'grid_key','grid_latitude','grid_longitude'])\n",
    "#df.head()"
   ]
  },
  {
   "cell_type": "code",
   "execution_count": null,
   "metadata": {},
   "outputs": [],
   "source": [
    "df=pd.merge(df,grid_keys1,on=['grid_key'], how='left')\n",
    "#df"
   ]
  },
  {
   "cell_type": "code",
   "execution_count": null,
   "metadata": {},
   "outputs": [],
   "source": [
    "df.drop(['latitude', 'longitude'], axis=1, inplace=True)\n",
    "#df"
   ]
  },
  {
   "cell_type": "code",
   "execution_count": null,
   "metadata": {},
   "outputs": [],
   "source": [
    "df.to_csv(\"store_hist_weather_info.csv\")"
   ]
  }
 ],
 "metadata": {
  "kernelspec": {
   "display_name": "Python 3",
   "language": "python",
   "name": "python3"
  },
  "language_info": {
   "codemirror_mode": {
    "name": "ipython",
    "version": 3
   },
   "file_extension": ".py",
   "mimetype": "text/x-python",
   "name": "python",
   "nbconvert_exporter": "python",
   "pygments_lexer": "ipython3",
   "version": "3.5.9"
  }
 },
 "nbformat": 4,
 "nbformat_minor": 4
}
